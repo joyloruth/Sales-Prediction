{
  "nbformat": 4,
  "nbformat_minor": 0,
  "metadata": {
    "colab": {
      "name": "Random Generator",
      "provenance": [],
      "authorship_tag": "ABX9TyOBM/qIQXfqy49Pl/DIkfql",
      "include_colab_link": true
    },
    "kernelspec": {
      "name": "python3",
      "display_name": "Python 3"
    }
  },
  "cells": [
    {
      "cell_type": "markdown",
      "metadata": {
        "id": "view-in-github",
        "colab_type": "text"
      },
      "source": [
        "<a href=\"https://colab.research.google.com/github/joyloruth/Sales-Prediction/blob/master/Random_Generator.ipynb\" target=\"_parent\"><img src=\"https://colab.research.google.com/assets/colab-badge.svg\" alt=\"Open In Colab\"/></a>"
      ]
    },
    {
      "cell_type": "code",
      "metadata": {
        "id": "D2vuMrYFSQmV",
        "colab_type": "code",
        "colab": {}
      },
      "source": [
        "import random"
      ],
      "execution_count": 1,
      "outputs": []
    },
    {
      "cell_type": "code",
      "metadata": {
        "id": "uAuLDKuBSYxj",
        "colab_type": "code",
        "colab": {}
      },
      "source": [
        "def createPassword():\n",
        "  characters = 'abcdefghijklmnopqrstuvwxyz1234567890ABCDEFGHIJKLMNOPQRSTUVWXYZ!@#$%^&*'\n",
        "  length = input('Password length? - ')\n",
        "  length = int(length)\n",
        "  \n",
        "  for p in range(number):\n",
        "    password = ''\n",
        "  for c in range(length):\n",
        "    password += random.choice(characters)\n",
        "  print(password)"
      ],
      "execution_count": 105,
      "outputs": []
    },
    {
      "cell_type": "code",
      "metadata": {
        "id": "X5ZtkiLmBA_L",
        "colab_type": "code",
        "colab": {
          "base_uri": "https://localhost:8080/",
          "height": 52
        },
        "outputId": "c5685f0b-3350-432f-ad23-a75111c2c92d"
      },
      "source": [
        "createPassword()"
      ],
      "execution_count": 119,
      "outputs": [
        {
          "output_type": "stream",
          "text": [
            "Password length? - 20\n",
            "XdHb*EC6g5pX%#YqKQlK\n"
          ],
          "name": "stdout"
        }
      ]
    },
    {
      "cell_type": "code",
      "metadata": {
        "id": "FZlSb8eB-xjR",
        "colab_type": "code",
        "colab": {
          "base_uri": "https://localhost:8080/",
          "height": 52
        },
        "outputId": "6066e8df-1604-4621-f645-350d13dc2ddc"
      },
      "source": [
        "createPassword()"
      ],
      "execution_count": 120,
      "outputs": [
        {
          "output_type": "stream",
          "text": [
            "Password length? - 50\n",
            "5fUmksWZ!Aq%EoMcTp*hLgPLN2AX#qXO&PpP%xqaoP*1cVui!c\n"
          ],
          "name": "stdout"
        }
      ]
    },
    {
      "cell_type": "code",
      "metadata": {
        "id": "kTPTOa_2Aayo",
        "colab_type": "code",
        "colab": {
          "base_uri": "https://localhost:8080/",
          "height": 52
        },
        "outputId": "8a92236e-124e-475c-d057-56aa88e09140"
      },
      "source": [
        "createPassword()"
      ],
      "execution_count": 117,
      "outputs": [
        {
          "output_type": "stream",
          "text": [
            "Password length? - 100\n",
            "TCWO6Isoq1G@#eISZa%V@8nWULwLVDn6Vn&KA!zEjUlI8p%LhClD&!1xbzV!da%tf909!4b7n1^dKLEgzG1cK!4RQ3i^zKk*m3$j\n"
          ],
          "name": "stdout"
        }
      ]
    },
    {
      "cell_type": "code",
      "metadata": {
        "id": "_DJsO8GlAldr",
        "colab_type": "code",
        "colab": {
          "base_uri": "https://localhost:8080/",
          "height": 52
        },
        "outputId": "f090382b-7f87-4a7e-f26a-ed1f9f81db62"
      },
      "source": [
        "createPassword()"
      ],
      "execution_count": 121,
      "outputs": [
        {
          "output_type": "stream",
          "text": [
            "Password length? - 15\n",
            "Vsk5G2FLM&c@VRL\n"
          ],
          "name": "stdout"
        }
      ]
    },
    {
      "cell_type": "code",
      "metadata": {
        "id": "8DDMxvKTBTXy",
        "colab_type": "code",
        "colab": {
          "base_uri": "https://localhost:8080/",
          "height": 52
        },
        "outputId": "99a001a6-5422-4275-8f6f-d1103669f39b"
      },
      "source": [
        "createPassword()"
      ],
      "execution_count": 122,
      "outputs": [
        {
          "output_type": "stream",
          "text": [
            "Password length? - 75\n",
            "o&rIAwihuJ$ISbl06U@Ed6qYif2lbwv9Eo6FmBH6z5lJ!DTOvgz67g!bRKNAOMJM0Jcr2T^Gkp0\n"
          ],
          "name": "stdout"
        }
      ]
    }
  ]
}