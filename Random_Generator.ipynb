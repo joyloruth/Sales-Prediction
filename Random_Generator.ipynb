{
  "nbformat": 4,
  "nbformat_minor": 0,
  "metadata": {
    "colab": {
      "name": "Random Generator",
      "provenance": [],
      "authorship_tag": "ABX9TyOBM/qIQXfqy49Pl/DIkfql",
      "include_colab_link": true
    },
    "kernelspec": {
      "name": "python3",
      "display_name": "Python 3"
    }
  },
  "cells": [
    {
      "cell_type": "markdown",
      "metadata": {
        "id": "view-in-github",
        "colab_type": "text"
      },
      "source": [
        "<a href=\"https://colab.research.google.com/github/joyloruth/Sales-Prediction/blob/master/Random_Generator.ipynb\" target=\"_parent\"><img src=\"https://colab.research.google.com/assets/colab-badge.svg\" alt=\"Open In Colab\"/></a>"
      ]
    },
    {
      "cell_type": "code",
      "metadata": {
        "id": "D2vuMrYFSQmV",
        "colab_type": "code",
        "colab": {}
      },
      "source": [
        "import random"
      ],
      "execution_count": 123,
      "outputs": []
    },
    {
      "cell_type": "code",
      "metadata": {
        "id": "uAuLDKuBSYxj",
        "colab_type": "code",
        "colab": {}
      },
      "source": [
        "def createPassword():\n",
        "  characters = 'abcdefghijklmnopqrstuvwxyz1234567890ABCDEFGHIJKLMNOPQRSTUVWXYZ!@#$%^&*'\n",
        "  length = input('Password length? - ')\n",
        "  length = int(length)\n",
        "  \n",
        "  for p in range(number):\n",
        "    password = ''\n",
        "  for c in range(length):\n",
        "    password += random.choice(characters)\n",
        "  print(password)"
      ],
      "execution_count": 124,
      "outputs": []
    },
    {
      "cell_type": "code",
      "metadata": {
        "id": "X5ZtkiLmBA_L",
        "colab_type": "code",
        "colab": {
          "base_uri": "https://localhost:8080/",
          "height": 52
        },
        "outputId": "eca3438d-a2ef-4d4a-cf98-04e1e3db51d2"
      },
      "source": [
        "createPassword()"
      ],
      "execution_count": 125,
      "outputs": [
        {
          "output_type": "stream",
          "text": [
            "Password length? - 10\n",
            "wPTl7z4HiY\n"
          ],
          "name": "stdout"
        }
      ]
    },
    {
      "cell_type": "code",
      "metadata": {
        "id": "FZlSb8eB-xjR",
        "colab_type": "code",
        "colab": {
          "base_uri": "https://localhost:8080/",
          "height": 52
        },
        "outputId": "4ba194bc-cb6d-4ce1-d3a7-9bc50ed8285c"
      },
      "source": [
        "createPassword()"
      ],
      "execution_count": 126,
      "outputs": [
        {
          "output_type": "stream",
          "text": [
            "Password length? - 25\n",
            "MIIw$ythqG@A5glHjn$hP9L*0\n"
          ],
          "name": "stdout"
        }
      ]
    },
    {
      "cell_type": "code",
      "metadata": {
        "id": "kTPTOa_2Aayo",
        "colab_type": "code",
        "colab": {
          "base_uri": "https://localhost:8080/",
          "height": 52
        },
        "outputId": "1ceb12f9-a0ab-41bb-e0a6-66c237e75b89"
      },
      "source": [
        "createPassword()"
      ],
      "execution_count": 127,
      "outputs": [
        {
          "output_type": "stream",
          "text": [
            "Password length? - 75\n",
            "x0l8XBmtQnHk26dRa0v$bKzOof*!tX7M8OdP2*cuTWLHIvT4n7ozg8D%l^Qsg7u9NY7QFbvWtdJ\n"
          ],
          "name": "stdout"
        }
      ]
    },
    {
      "cell_type": "code",
      "metadata": {
        "id": "_DJsO8GlAldr",
        "colab_type": "code",
        "colab": {
          "base_uri": "https://localhost:8080/",
          "height": 52
        },
        "outputId": "6a4ee036-0197-4b95-eefa-de28943768c4"
      },
      "source": [
        "createPassword()"
      ],
      "execution_count": 128,
      "outputs": [
        {
          "output_type": "stream",
          "text": [
            "Password length? - 100\n",
            "j8yheVg*K!PGZ^U9c8TS0V7ZoPck7FXtvjLOuNqQqM0gjnC$xkrlJoWw^y3!sYFC8sDeP92IqmKGSctPYKGeeCw^W!w0ezQCnO@q\n"
          ],
          "name": "stdout"
        }
      ]
    },
    {
      "cell_type": "code",
      "metadata": {
        "id": "8DDMxvKTBTXy",
        "colab_type": "code",
        "colab": {
          "base_uri": "https://localhost:8080/",
          "height": 52
        },
        "outputId": "4e303cc4-c5e7-4e17-cfc3-308120dd9ae1"
      },
      "source": [
        "createPassword()"
      ],
      "execution_count": 129,
      "outputs": [
        {
          "output_type": "stream",
          "text": [
            "Password length? - 5\n",
            "dM1U6\n"
          ],
          "name": "stdout"
        }
      ]
    }
  ]
}