{
  "nbformat": 4,
  "nbformat_minor": 0,
  "metadata": {
    "colab": {
      "name": "Random Generator",
      "provenance": [],
      "include_colab_link": true
    },
    "kernelspec": {
      "name": "python3",
      "display_name": "Python 3"
    }
  },
  "cells": [
    {
      "cell_type": "markdown",
      "metadata": {
        "id": "view-in-github",
        "colab_type": "text"
      },
      "source": [
        "<a href=\"https://colab.research.google.com/github/joyloruth/Sales-Prediction/blob/master/Random_Generator.ipynb\" target=\"_parent\"><img src=\"https://colab.research.google.com/assets/colab-badge.svg\" alt=\"Open In Colab\"/></a>"
      ]
    },
    {
      "cell_type": "code",
      "metadata": {
        "id": "D2vuMrYFSQmV",
        "colab_type": "code",
        "colab": {}
      },
      "source": [
        "import random"
      ],
      "execution_count": 19,
      "outputs": []
    },
    {
      "cell_type": "code",
      "metadata": {
        "id": "uAuLDKuBSYxj",
        "colab_type": "code",
        "colab": {}
      },
      "source": [
        "def createPassword():\n",
        "  characters = 'abcdefghijklmnopqrstuvwxyz1234567890ABCDEFGHIJKLMNOPQRSTUVWXYZ!@#$%^&*'\n",
        "  \n",
        "  number = input('Number of passwords? - ')\n",
        "  number = int(number)\n",
        "  \n",
        "  length = input('Password length? - ')\n",
        "  length = int(length)\n",
        "  \n",
        "  for p in range(number):\n",
        "    password = ''\n",
        "    for c in range(length):\n",
        "      password += random.choice(characters)\n",
        "    print(password)"
      ],
      "execution_count": 26,
      "outputs": []
    },
    {
      "cell_type": "code",
      "metadata": {
        "id": "X5ZtkiLmBA_L",
        "colab_type": "code",
        "colab": {
          "base_uri": "https://localhost:8080/",
          "height": 69
        },
        "outputId": "7652fa7c-416a-4799-9590-621e01abd1e7"
      },
      "source": [
        "createPassword()"
      ],
      "execution_count": 29,
      "outputs": [
        {
          "output_type": "stream",
          "text": [
            "Number of passwords? - 1\n",
            "Password length? - 39\n",
            "NEq^tkR5qKpmZy!wfhKD0KVw!FOWTF8iEPwoVef\n"
          ],
          "name": "stdout"
        }
      ]
    },
    {
      "cell_type": "code",
      "metadata": {
        "id": "FZlSb8eB-xjR",
        "colab_type": "code",
        "colab": {
          "base_uri": "https://localhost:8080/",
          "height": 86
        },
        "outputId": "657b3a70-a51e-41c3-fa9f-6efaad153450"
      },
      "source": [
        "createPassword()"
      ],
      "execution_count": 28,
      "outputs": [
        {
          "output_type": "stream",
          "text": [
            "Number of passwords? - 2\n",
            "Password length? - 34\n",
            "nEBq^Q#K7F9JpF&7Is^S@$U5EbZlQ4@7i1\n",
            "Y70fe61sTDRn*yqv9D3leau@xU#93jiew%\n"
          ],
          "name": "stdout"
        }
      ]
    },
    {
      "cell_type": "code",
      "metadata": {
        "id": "kTPTOa_2Aayo",
        "colab_type": "code",
        "colab": {
          "base_uri": "https://localhost:8080/",
          "height": 138
        },
        "outputId": "af7a0d5b-e7da-4498-aee5-45479c5fd847"
      },
      "source": [
        "createPassword()"
      ],
      "execution_count": 30,
      "outputs": [
        {
          "output_type": "stream",
          "text": [
            "Number of passwords? - 5\n",
            "Password length? - 23\n",
            "qofb%a&dbf26SoLF0G7fhgm\n",
            "0r9%&tjGw2!2jIYB^dPavML\n",
            "NF*7Npbh!ysnmQn0vKY@mJI\n",
            "wwvFaP7GhL2mLXm4^yqVZNl\n",
            "#zAZlmmV73aL2%DmWDlxcmy\n"
          ],
          "name": "stdout"
        }
      ]
    }
  ]
}